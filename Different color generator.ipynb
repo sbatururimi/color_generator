{
 "cells": [
  {
   "cell_type": "markdown",
   "metadata": {},
   "source": [
    "# Modules"
   ]
  },
  {
   "cell_type": "code",
   "execution_count": 1,
   "metadata": {},
   "outputs": [],
   "source": [
    "from IPython.core.display import display, HTML\n",
    "from string import ascii_lowercase\n",
    "import random"
   ]
  },
  {
   "cell_type": "markdown",
   "metadata": {},
   "source": [
    "# Methods & tests"
   ]
  },
  {
   "cell_type": "code",
   "execution_count": 2,
   "metadata": {},
   "outputs": [],
   "source": [
    "def hsv_to_rgb(h, s, v):\n",
    "    \"\"\"\n",
    "    Convert HSV color to the RGB color space.\n",
    "    HSV values in [0,1]\n",
    "    \n",
    "    :param h: hue\n",
    "    :type h: int\n",
    "    :param s: saturation\n",
    "    :type s: int\n",
    "    :param v: value\n",
    "    :type h: int\n",
    "    :return: rgb colors, each channel has a value in the range [0,250]\n",
    "    :return type: list of int\n",
    "    \"\"\"\n",
    "    h_i = int(h*6)\n",
    "    f = h*6 - h_i\n",
    "    p = v * (1 - s)\n",
    "    q = v * (1 - f*s)\n",
    "    t = v * (1 - (1 - f) * s)\n",
    "    if h_i == 0:\n",
    "        r, g, b = v, t, p \n",
    "    \n",
    "    if h_i == 1:\n",
    "        r, g, b = q, v, p \n",
    "        \n",
    "    if h_i == 2:\n",
    "        r, g, b = p, v, t \n",
    "    \n",
    "    if h_i == 3:\n",
    "        r, g, b = p, q, v \n",
    "    \n",
    "    if h_i == 4:\n",
    "        r, g, b = t, p, v \n",
    "    \n",
    "    if h_i == 5:\n",
    "        r, g, b = v, p, q \n",
    "    return [int(r*256), int(g*256), int(b*256)]\n",
    " "
   ]
  },
  {
   "cell_type": "code",
   "execution_count": 3,
   "metadata": {},
   "outputs": [],
   "source": [
    "def get_letter():\n",
    "    \"\"\"\n",
    "    Generate alphabet letter one at a time\n",
    "    \"\"\"\n",
    "    for c in ascii_lowercase:\n",
    "        yield c"
   ]
  },
  {
   "cell_type": "code",
   "execution_count": 4,
   "metadata": {},
   "outputs": [],
   "source": [
    "letter = get_letter()"
   ]
  },
  {
   "cell_type": "code",
   "execution_count": 5,
   "metadata": {},
   "outputs": [
    {
     "data": {
      "text/plain": [
       "'a'"
      ]
     },
     "execution_count": 5,
     "metadata": {},
     "output_type": "execute_result"
    }
   ],
   "source": [
    "next(letter)"
   ]
  },
  {
   "cell_type": "code",
   "execution_count": 6,
   "metadata": {},
   "outputs": [],
   "source": [
    "def gen_html(rgb, letter):\n",
    "    r = rgb[0]\n",
    "    g = rgb[1]\n",
    "    b = rgb[2]\n",
    "    html_ = \"\\\n",
    "    <span style=\\\"background-color:#{:02x}{:02x}{:02x}; padding:10px; -moz-border-radius:3px; -webkit-border-radius:3px;\\\"> \\\n",
    "    {}</span>\".format(r, g, b, letter)\n",
    "#     print(html_)\n",
    "    display(HTML(html_))\n",
    "    "
   ]
  },
  {
   "cell_type": "code",
   "execution_count": 7,
   "metadata": {},
   "outputs": [
    {
     "data": {
      "text/html": [
       "    <span style=\"background-color:#00f028; padding:10px; -moz-border-radius:3px; -webkit-border-radius:3px;\">     a</span>"
      ],
      "text/plain": [
       "<IPython.core.display.HTML object>"
      ]
     },
     "metadata": {},
     "output_type": "display_data"
    }
   ],
   "source": [
    "letter = get_letter()\n",
    "gen_html([0, 240, 40], next(letter))"
   ]
  },
  {
   "cell_type": "markdown",
   "metadata": {},
   "source": [
    "## How to use"
   ]
  },
  {
   "cell_type": "code",
   "execution_count": 8,
   "metadata": {},
   "outputs": [
    {
     "data": {
      "text/html": [
       "    <span style=\"background-color:#f38279; padding:10px; -moz-border-radius:3px; -webkit-border-radius:3px;\">     a</span>"
      ],
      "text/plain": [
       "<IPython.core.display.HTML object>"
      ]
     },
     "metadata": {},
     "output_type": "display_data"
    },
    {
     "data": {
      "text/html": [
       "    <span style=\"background-color:#79e5f3; padding:10px; -moz-border-radius:3px; -webkit-border-radius:3px;\">     b</span>"
      ],
      "text/plain": [
       "<IPython.core.display.HTML object>"
      ]
     },
     "metadata": {},
     "output_type": "display_data"
    },
    {
     "data": {
      "text/html": [
       "    <span style=\"background-color:#f3a979; padding:10px; -moz-border-radius:3px; -webkit-border-radius:3px;\">     c</span>"
      ],
      "text/plain": [
       "<IPython.core.display.HTML object>"
      ]
     },
     "metadata": {},
     "output_type": "display_data"
    },
    {
     "data": {
      "text/html": [
       "    <span style=\"background-color:#79f3ac; padding:10px; -moz-border-radius:3px; -webkit-border-radius:3px;\">     d</span>"
      ],
      "text/plain": [
       "<IPython.core.display.HTML object>"
      ]
     },
     "metadata": {},
     "output_type": "display_data"
    },
    {
     "data": {
      "text/html": [
       "    <span style=\"background-color:#79f3c5; padding:10px; -moz-border-radius:3px; -webkit-border-radius:3px;\">     e</span>"
      ],
      "text/plain": [
       "<IPython.core.display.HTML object>"
      ]
     },
     "metadata": {},
     "output_type": "display_data"
    },
    {
     "data": {
      "text/html": [
       "    <span style=\"background-color:#79ecf3; padding:10px; -moz-border-radius:3px; -webkit-border-radius:3px;\">     f</span>"
      ],
      "text/plain": [
       "<IPython.core.display.HTML object>"
      ]
     },
     "metadata": {},
     "output_type": "display_data"
    },
    {
     "data": {
      "text/html": [
       "    <span style=\"background-color:#f37985; padding:10px; -moz-border-radius:3px; -webkit-border-radius:3px;\">     g</span>"
      ],
      "text/plain": [
       "<IPython.core.display.HTML object>"
      ]
     },
     "metadata": {},
     "output_type": "display_data"
    },
    {
     "data": {
      "text/html": [
       "    <span style=\"background-color:#f3797d; padding:10px; -moz-border-radius:3px; -webkit-border-radius:3px;\">     h</span>"
      ],
      "text/plain": [
       "<IPython.core.display.HTML object>"
      ]
     },
     "metadata": {},
     "output_type": "display_data"
    },
    {
     "data": {
      "text/html": [
       "    <span style=\"background-color:#f3ab79; padding:10px; -moz-border-radius:3px; -webkit-border-radius:3px;\">     i</span>"
      ],
      "text/plain": [
       "<IPython.core.display.HTML object>"
      ]
     },
     "metadata": {},
     "output_type": "display_data"
    },
    {
     "data": {
      "text/html": [
       "    <span style=\"background-color:#d2f379; padding:10px; -moz-border-radius:3px; -webkit-border-radius:3px;\">     j</span>"
      ],
      "text/plain": [
       "<IPython.core.display.HTML object>"
      ]
     },
     "metadata": {},
     "output_type": "display_data"
    }
   ],
   "source": [
    "# generate several random colors\n",
    "s = 0.5\n",
    "v = 0.95\n",
    "letter = get_letter()\n",
    "for i in range(10):\n",
    "    h = random.uniform(0, 1)\n",
    "    gen_html(hsv_to_rgb(h, s, v), next(letter))"
   ]
  },
  {
   "cell_type": "code",
   "execution_count": null,
   "metadata": {},
   "outputs": [],
   "source": []
  }
 ],
 "metadata": {
  "kernelspec": {
   "display_name": "Python 3",
   "language": "python",
   "name": "python3"
  },
  "language_info": {
   "codemirror_mode": {
    "name": "ipython",
    "version": 3
   },
   "file_extension": ".py",
   "mimetype": "text/x-python",
   "name": "python",
   "nbconvert_exporter": "python",
   "pygments_lexer": "ipython3",
   "version": "3.6.5"
  },
  "toc": {
   "base_numbering": 1,
   "nav_menu": {},
   "number_sections": true,
   "sideBar": true,
   "skip_h1_title": false,
   "title_cell": "Table of Contents",
   "title_sidebar": "Contents",
   "toc_cell": false,
   "toc_position": {},
   "toc_section_display": true,
   "toc_window_display": true
  }
 },
 "nbformat": 4,
 "nbformat_minor": 2
}
