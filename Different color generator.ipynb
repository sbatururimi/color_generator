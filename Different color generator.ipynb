{
 "cells": [
  {
   "cell_type": "markdown",
   "metadata": {},
   "source": [
    "# Modules"
   ]
  },
  {
   "cell_type": "code",
   "execution_count": 1,
   "metadata": {},
   "outputs": [],
   "source": [
    "from IPython.core.display import display, HTML\n",
    "from string import ascii_lowercase\n",
    "import random"
   ]
  },
  {
   "cell_type": "markdown",
   "metadata": {},
   "source": [
    "# Methods & tests"
   ]
  },
  {
   "cell_type": "code",
   "execution_count": 2,
   "metadata": {},
   "outputs": [],
   "source": [
    "def hsv_to_rgb(h, s, v):\n",
    "    \"\"\"\n",
    "    Convert HSV color to the RGB color space.\n",
    "    HSV values in [0,1]\n",
    "    \n",
    "    :param h: hue\n",
    "    :type h: int\n",
    "    :param s: saturation\n",
    "    :type s: int\n",
    "    :param v: value\n",
    "    :type h: int\n",
    "    :return: rgb colors, each channel has a value in the range [0,250]\n",
    "    :return type: list of int\n",
    "    \"\"\"\n",
    "    h_i = int(h*6)\n",
    "    f = h*6 - h_i\n",
    "    p = v * (1 - s)\n",
    "    q = v * (1 - f*s)\n",
    "    t = v * (1 - (1 - f) * s)\n",
    "    if h_i == 0:\n",
    "        r, g, b = v, t, p \n",
    "    \n",
    "    if h_i == 1:\n",
    "        r, g, b = q, v, p \n",
    "        \n",
    "    if h_i == 2:\n",
    "        r, g, b = p, v, t \n",
    "    \n",
    "    if h_i == 3:\n",
    "        r, g, b = p, q, v \n",
    "    \n",
    "    if h_i == 4:\n",
    "        r, g, b = t, p, v \n",
    "    \n",
    "    if h_i == 5:\n",
    "        r, g, b = v, p, q \n",
    "    return [int(r*256), int(g*256), int(b*256)]\n",
    " "
   ]
  },
  {
   "cell_type": "code",
   "execution_count": 3,
   "metadata": {},
   "outputs": [],
   "source": [
    "def get_letter():\n",
    "    \"\"\"\n",
    "    Generate alphabet letter one at a time\n",
    "    \"\"\"\n",
    "    for c in ascii_lowercase:\n",
    "        yield c"
   ]
  },
  {
   "cell_type": "code",
   "execution_count": 4,
   "metadata": {},
   "outputs": [],
   "source": [
    "letter = get_letter()"
   ]
  },
  {
   "cell_type": "code",
   "execution_count": 5,
   "metadata": {},
   "outputs": [
    {
     "data": {
      "text/plain": [
       "'a'"
      ]
     },
     "execution_count": 5,
     "metadata": {},
     "output_type": "execute_result"
    }
   ],
   "source": [
    "next(letter)"
   ]
  },
  {
   "cell_type": "code",
   "execution_count": 6,
   "metadata": {},
   "outputs": [],
   "source": [
    "def gen_html(rgb, letter):\n",
    "    r = rgb[0]\n",
    "    g = rgb[1]\n",
    "    b = rgb[2]\n",
    "    html_ = \"\\\n",
    "    <span style=\\\"background-color:#{:02x}{:02x}{:02x}; padding:10px; -moz-border-radius:3px; -webkit-border-radius:3px;\\\"> \\\n",
    "    {}</span>\".format(r, g, b, letter)\n",
    "#     print(html_)\n",
    "    display(HTML(html_))\n",
    "    "
   ]
  },
  {
   "cell_type": "code",
   "execution_count": 7,
   "metadata": {},
   "outputs": [
    {
     "data": {
      "text/html": [
       "    <span style=\"background-color:#00f028; padding:10px; -moz-border-radius:3px; -webkit-border-radius:3px;\">     a</span>"
      ],
      "text/plain": [
       "<IPython.core.display.HTML object>"
      ]
     },
     "metadata": {},
     "output_type": "display_data"
    }
   ],
   "source": [
    "letter = get_letter()\n",
    "gen_html([0, 240, 40], next(letter))"
   ]
  },
  {
   "cell_type": "markdown",
   "metadata": {},
   "source": [
    "## How to use"
   ]
  },
  {
   "cell_type": "code",
   "execution_count": 8,
   "metadata": {},
   "outputs": [
    {
     "data": {
      "text/html": [
       "    <span style=\"background-color:#f38279; padding:10px; -moz-border-radius:3px; -webkit-border-radius:3px;\">     a</span>"
      ],
      "text/plain": [
       "<IPython.core.display.HTML object>"
      ]
     },
     "metadata": {},
     "output_type": "display_data"
    },
    {
     "data": {
      "text/html": [
       "    <span style=\"background-color:#79e5f3; padding:10px; -moz-border-radius:3px; -webkit-border-radius:3px;\">     b</span>"
      ],
      "text/plain": [
       "<IPython.core.display.HTML object>"
      ]
     },
     "metadata": {},
     "output_type": "display_data"
    },
    {
     "data": {
      "text/html": [
       "    <span style=\"background-color:#f3a979; padding:10px; -moz-border-radius:3px; -webkit-border-radius:3px;\">     c</span>"
      ],
      "text/plain": [
       "<IPython.core.display.HTML object>"
      ]
     },
     "metadata": {},
     "output_type": "display_data"
    },
    {
     "data": {
      "text/html": [
       "    <span style=\"background-color:#79f3ac; padding:10px; -moz-border-radius:3px; -webkit-border-radius:3px;\">     d</span>"
      ],
      "text/plain": [
       "<IPython.core.display.HTML object>"
      ]
     },
     "metadata": {},
     "output_type": "display_data"
    },
    {
     "data": {
      "text/html": [
       "    <span style=\"background-color:#79f3c5; padding:10px; -moz-border-radius:3px; -webkit-border-radius:3px;\">     e</span>"
      ],
      "text/plain": [
       "<IPython.core.display.HTML object>"
      ]
     },
     "metadata": {},
     "output_type": "display_data"
    },
    {
     "data": {
      "text/html": [
       "    <span style=\"background-color:#79ecf3; padding:10px; -moz-border-radius:3px; -webkit-border-radius:3px;\">     f</span>"
      ],
      "text/plain": [
       "<IPython.core.display.HTML object>"
      ]
     },
     "metadata": {},
     "output_type": "display_data"
    },
    {
     "data": {
      "text/html": [
       "    <span style=\"background-color:#f37985; padding:10px; -moz-border-radius:3px; -webkit-border-radius:3px;\">     g</span>"
      ],
      "text/plain": [
       "<IPython.core.display.HTML object>"
      ]
     },
     "metadata": {},
     "output_type": "display_data"
    },
    {
     "data": {
      "text/html": [
       "    <span style=\"background-color:#f3797d; padding:10px; -moz-border-radius:3px; -webkit-border-radius:3px;\">     h</span>"
      ],
      "text/plain": [
       "<IPython.core.display.HTML object>"
      ]
     },
     "metadata": {},
     "output_type": "display_data"
    },
    {
     "data": {
      "text/html": [
       "    <span style=\"background-color:#f3ab79; padding:10px; -moz-border-radius:3px; -webkit-border-radius:3px;\">     i</span>"
      ],
      "text/plain": [
       "<IPython.core.display.HTML object>"
      ]
     },
     "metadata": {},
     "output_type": "display_data"
    },
    {
     "data": {
      "text/html": [
       "    <span style=\"background-color:#d2f379; padding:10px; -moz-border-radius:3px; -webkit-border-radius:3px;\">     j</span>"
      ],
      "text/plain": [
       "<IPython.core.display.HTML object>"
      ]
     },
     "metadata": {},
     "output_type": "display_data"
    }
   ],
   "source": [
    "# generate several random colors\n",
    "s = 0.5\n",
    "v = 0.95\n",
    "letter = get_letter()\n",
    "for i in range(10):\n",
    "    h = random.uniform(0, 1)\n",
    "    gen_html(hsv_to_rgb(h, s, v), next(letter))"
   ]
  },
  {
   "cell_type": "markdown",
   "metadata": {},
   "source": [
    "## Improvement"
   ]
  },
  {
   "cell_type": "markdown",
   "metadata": {},
   "source": [
    "### Golden ratio"
   ]
  },
  {
   "cell_type": "code",
   "execution_count": 9,
   "metadata": {},
   "outputs": [
    {
     "data": {
      "text/html": [
       "    <span style=\"background-color:#f39b79; padding:10px; -moz-border-radius:3px; -webkit-border-radius:3px;\">     a</span>"
      ],
      "text/plain": [
       "<IPython.core.display.HTML object>"
      ]
     },
     "metadata": {},
     "output_type": "display_data"
    },
    {
     "data": {
      "text/html": [
       "    <span style=\"background-color:#f3799b; padding:10px; -moz-border-radius:3px; -webkit-border-radius:3px;\">     b</span>"
      ],
      "text/plain": [
       "<IPython.core.display.HTML object>"
      ]
     },
     "metadata": {},
     "output_type": "display_data"
    },
    {
     "data": {
      "text/html": [
       "    <span style=\"background-color:#7992f3; padding:10px; -moz-border-radius:3px; -webkit-border-radius:3px;\">     c</span>"
      ],
      "text/plain": [
       "<IPython.core.display.HTML object>"
      ]
     },
     "metadata": {},
     "output_type": "display_data"
    },
    {
     "data": {
      "text/html": [
       "    <span style=\"background-color:#e479f3; padding:10px; -moz-border-radius:3px; -webkit-border-radius:3px;\">     d</span>"
      ],
      "text/plain": [
       "<IPython.core.display.HTML object>"
      ]
     },
     "metadata": {},
     "output_type": "display_data"
    },
    {
     "data": {
      "text/html": [
       "    <span style=\"background-color:#f3bf79; padding:10px; -moz-border-radius:3px; -webkit-border-radius:3px;\">     e</span>"
      ],
      "text/plain": [
       "<IPython.core.display.HTML object>"
      ]
     },
     "metadata": {},
     "output_type": "display_data"
    },
    {
     "data": {
      "text/html": [
       "    <span style=\"background-color:#e679f3; padding:10px; -moz-border-radius:3px; -webkit-border-radius:3px;\">     f</span>"
      ],
      "text/plain": [
       "<IPython.core.display.HTML object>"
      ]
     },
     "metadata": {},
     "output_type": "display_data"
    },
    {
     "data": {
      "text/html": [
       "    <span style=\"background-color:#bf79f3; padding:10px; -moz-border-radius:3px; -webkit-border-radius:3px;\">     g</span>"
      ],
      "text/plain": [
       "<IPython.core.display.HTML object>"
      ]
     },
     "metadata": {},
     "output_type": "display_data"
    },
    {
     "data": {
      "text/html": [
       "    <span style=\"background-color:#9af379; padding:10px; -moz-border-radius:3px; -webkit-border-radius:3px;\">     h</span>"
      ],
      "text/plain": [
       "<IPython.core.display.HTML object>"
      ]
     },
     "metadata": {},
     "output_type": "display_data"
    },
    {
     "data": {
      "text/html": [
       "    <span style=\"background-color:#f379cb; padding:10px; -moz-border-radius:3px; -webkit-border-radius:3px;\">     i</span>"
      ],
      "text/plain": [
       "<IPython.core.display.HTML object>"
      ]
     },
     "metadata": {},
     "output_type": "display_data"
    },
    {
     "data": {
      "text/html": [
       "    <span style=\"background-color:#79f3c2; padding:10px; -moz-border-radius:3px; -webkit-border-radius:3px;\">     j</span>"
      ],
      "text/plain": [
       "<IPython.core.display.HTML object>"
      ]
     },
     "metadata": {},
     "output_type": "display_data"
    }
   ],
   "source": [
    "golden_ratio_conjugate = 0.618033988749895\n",
    "\n",
    "s = 0.5\n",
    "v = 0.95\n",
    "letter = get_letter()\n",
    "for i in range(10):\n",
    "    h = random.uniform(0, 1)\n",
    "    h += golden_ratio_conjugate\n",
    "    h = h % 1\n",
    "    gen_html(hsv_to_rgb(h, s, v), next(letter))"
   ]
  },
  {
   "cell_type": "markdown",
   "metadata": {},
   "source": [
    "#### Test 1"
   ]
  },
  {
   "cell_type": "code",
   "execution_count": 10,
   "metadata": {},
   "outputs": [
    {
     "data": {
      "text/html": [
       "    <span style=\"background-color:#02fd2f; padding:10px; -moz-border-radius:3px; -webkit-border-radius:3px;\">     a</span>"
      ],
      "text/plain": [
       "<IPython.core.display.HTML object>"
      ]
     },
     "metadata": {},
     "output_type": "display_data"
    },
    {
     "data": {
      "text/html": [
       "    <span style=\"background-color:#02fd05; padding:10px; -moz-border-radius:3px; -webkit-border-radius:3px;\">     b</span>"
      ],
      "text/plain": [
       "<IPython.core.display.HTML object>"
      ]
     },
     "metadata": {},
     "output_type": "display_data"
    },
    {
     "data": {
      "text/html": [
       "    <span style=\"background-color:#fd02b4; padding:10px; -moz-border-radius:3px; -webkit-border-radius:3px;\">     c</span>"
      ],
      "text/plain": [
       "<IPython.core.display.HTML object>"
      ]
     },
     "metadata": {},
     "output_type": "display_data"
    },
    {
     "data": {
      "text/html": [
       "    <span style=\"background-color:#7cfd02; padding:10px; -moz-border-radius:3px; -webkit-border-radius:3px;\">     d</span>"
      ],
      "text/plain": [
       "<IPython.core.display.HTML object>"
      ]
     },
     "metadata": {},
     "output_type": "display_data"
    },
    {
     "data": {
      "text/html": [
       "    <span style=\"background-color:#fdec02; padding:10px; -moz-border-radius:3px; -webkit-border-radius:3px;\">     e</span>"
      ],
      "text/plain": [
       "<IPython.core.display.HTML object>"
      ]
     },
     "metadata": {},
     "output_type": "display_data"
    },
    {
     "data": {
      "text/html": [
       "    <span style=\"background-color:#f3fd02; padding:10px; -moz-border-radius:3px; -webkit-border-radius:3px;\">     f</span>"
      ],
      "text/plain": [
       "<IPython.core.display.HTML object>"
      ]
     },
     "metadata": {},
     "output_type": "display_data"
    },
    {
     "data": {
      "text/html": [
       "    <span style=\"background-color:#028cfd; padding:10px; -moz-border-radius:3px; -webkit-border-radius:3px;\">     g</span>"
      ],
      "text/plain": [
       "<IPython.core.display.HTML object>"
      ]
     },
     "metadata": {},
     "output_type": "display_data"
    },
    {
     "data": {
      "text/html": [
       "    <span style=\"background-color:#fd0222; padding:10px; -moz-border-radius:3px; -webkit-border-radius:3px;\">     h</span>"
      ],
      "text/plain": [
       "<IPython.core.display.HTML object>"
      ]
     },
     "metadata": {},
     "output_type": "display_data"
    },
    {
     "data": {
      "text/html": [
       "    <span style=\"background-color:#73fd02; padding:10px; -moz-border-radius:3px; -webkit-border-radius:3px;\">     i</span>"
      ],
      "text/plain": [
       "<IPython.core.display.HTML object>"
      ]
     },
     "metadata": {},
     "output_type": "display_data"
    },
    {
     "data": {
      "text/html": [
       "    <span style=\"background-color:#bd02fd; padding:10px; -moz-border-radius:3px; -webkit-border-radius:3px;\">     j</span>"
      ],
      "text/plain": [
       "<IPython.core.display.HTML object>"
      ]
     },
     "metadata": {},
     "output_type": "display_data"
    }
   ],
   "source": [
    "golden_ratio_conjugate = 0.618033988749895\n",
    "\n",
    "s = 0.99\n",
    "v = 0.99\n",
    "letter = get_letter()\n",
    "for i in range(10):\n",
    "    h = random.uniform(0, 1)\n",
    "    h += golden_ratio_conjugate\n",
    "    h = h % 1\n",
    "    gen_html(hsv_to_rgb(h, s, v), next(letter))"
   ]
  },
  {
   "cell_type": "markdown",
   "metadata": {},
   "source": [
    "#### Test 2"
   ]
  },
  {
   "cell_type": "code",
   "execution_count": 11,
   "metadata": {},
   "outputs": [
    {
     "data": {
      "text/html": [
       "    <span style=\"background-color:#a0cc99; padding:10px; -moz-border-radius:3px; -webkit-border-radius:3px;\">     a</span>"
      ],
      "text/plain": [
       "<IPython.core.display.HTML object>"
      ]
     },
     "metadata": {},
     "output_type": "display_data"
    },
    {
     "data": {
      "text/html": [
       "    <span style=\"background-color:#c599cc; padding:10px; -moz-border-radius:3px; -webkit-border-radius:3px;\">     b</span>"
      ],
      "text/plain": [
       "<IPython.core.display.HTML object>"
      ]
     },
     "metadata": {},
     "output_type": "display_data"
    },
    {
     "data": {
      "text/html": [
       "    <span style=\"background-color:#aa99cc; padding:10px; -moz-border-radius:3px; -webkit-border-radius:3px;\">     c</span>"
      ],
      "text/plain": [
       "<IPython.core.display.HTML object>"
      ]
     },
     "metadata": {},
     "output_type": "display_data"
    },
    {
     "data": {
      "text/html": [
       "    <span style=\"background-color:#99cc9c; padding:10px; -moz-border-radius:3px; -webkit-border-radius:3px;\">     d</span>"
      ],
      "text/plain": [
       "<IPython.core.display.HTML object>"
      ]
     },
     "metadata": {},
     "output_type": "display_data"
    },
    {
     "data": {
      "text/html": [
       "    <span style=\"background-color:#ccac99; padding:10px; -moz-border-radius:3px; -webkit-border-radius:3px;\">     e</span>"
      ],
      "text/plain": [
       "<IPython.core.display.HTML object>"
      ]
     },
     "metadata": {},
     "output_type": "display_data"
    },
    {
     "data": {
      "text/html": [
       "    <span style=\"background-color:#999acc; padding:10px; -moz-border-radius:3px; -webkit-border-radius:3px;\">     f</span>"
      ],
      "text/plain": [
       "<IPython.core.display.HTML object>"
      ]
     },
     "metadata": {},
     "output_type": "display_data"
    },
    {
     "data": {
      "text/html": [
       "    <span style=\"background-color:#cc99c5; padding:10px; -moz-border-radius:3px; -webkit-border-radius:3px;\">     g</span>"
      ],
      "text/plain": [
       "<IPython.core.display.HTML object>"
      ]
     },
     "metadata": {},
     "output_type": "display_data"
    },
    {
     "data": {
      "text/html": [
       "    <span style=\"background-color:#c099cc; padding:10px; -moz-border-radius:3px; -webkit-border-radius:3px;\">     h</span>"
      ],
      "text/plain": [
       "<IPython.core.display.HTML object>"
      ]
     },
     "metadata": {},
     "output_type": "display_data"
    },
    {
     "data": {
      "text/html": [
       "    <span style=\"background-color:#cc99a9; padding:10px; -moz-border-radius:3px; -webkit-border-radius:3px;\">     i</span>"
      ],
      "text/plain": [
       "<IPython.core.display.HTML object>"
      ]
     },
     "metadata": {},
     "output_type": "display_data"
    },
    {
     "data": {
      "text/html": [
       "    <span style=\"background-color:#cc99a4; padding:10px; -moz-border-radius:3px; -webkit-border-radius:3px;\">     j</span>"
      ],
      "text/plain": [
       "<IPython.core.display.HTML object>"
      ]
     },
     "metadata": {},
     "output_type": "display_data"
    }
   ],
   "source": [
    "golden_ratio_conjugate = 0.618033988749895\n",
    "\n",
    "s = 0.25\n",
    "v = 0.8\n",
    "letter = get_letter()\n",
    "for i in range(10):\n",
    "    h = random.uniform(0, 1)\n",
    "    h += golden_ratio_conjugate\n",
    "    h = h % 1\n",
    "    gen_html(hsv_to_rgb(h, s, v), next(letter))"
   ]
  },
  {
   "cell_type": "markdown",
   "metadata": {},
   "source": [
    "#### Test 3"
   ]
  },
  {
   "cell_type": "code",
   "execution_count": 12,
   "metadata": {},
   "outputs": [
    {
     "data": {
      "text/html": [
       "    <span style=\"background-color:#fad9af; padding:10px; -moz-border-radius:3px; -webkit-border-radius:3px;\">     a</span>"
      ],
      "text/plain": [
       "<IPython.core.display.HTML object>"
      ]
     },
     "metadata": {},
     "output_type": "display_data"
    },
    {
     "data": {
      "text/html": [
       "    <span style=\"background-color:#ecaffa; padding:10px; -moz-border-radius:3px; -webkit-border-radius:3px;\">     b</span>"
      ],
      "text/plain": [
       "<IPython.core.display.HTML object>"
      ]
     },
     "metadata": {},
     "output_type": "display_data"
    },
    {
     "data": {
      "text/html": [
       "    <span style=\"background-color:#faafda; padding:10px; -moz-border-radius:3px; -webkit-border-radius:3px;\">     c</span>"
      ],
      "text/plain": [
       "<IPython.core.display.HTML object>"
      ]
     },
     "metadata": {},
     "output_type": "display_data"
    },
    {
     "data": {
      "text/html": [
       "    <span style=\"background-color:#fae4af; padding:10px; -moz-border-radius:3px; -webkit-border-radius:3px;\">     d</span>"
      ],
      "text/plain": [
       "<IPython.core.display.HTML object>"
      ]
     },
     "metadata": {},
     "output_type": "display_data"
    },
    {
     "data": {
      "text/html": [
       "    <span style=\"background-color:#eefaaf; padding:10px; -moz-border-radius:3px; -webkit-border-radius:3px;\">     e</span>"
      ],
      "text/plain": [
       "<IPython.core.display.HTML object>"
      ]
     },
     "metadata": {},
     "output_type": "display_data"
    },
    {
     "data": {
      "text/html": [
       "    <span style=\"background-color:#faafe0; padding:10px; -moz-border-radius:3px; -webkit-border-radius:3px;\">     f</span>"
      ],
      "text/plain": [
       "<IPython.core.display.HTML object>"
      ]
     },
     "metadata": {},
     "output_type": "display_data"
    },
    {
     "data": {
      "text/html": [
       "    <span style=\"background-color:#fab9af; padding:10px; -moz-border-radius:3px; -webkit-border-radius:3px;\">     g</span>"
      ],
      "text/plain": [
       "<IPython.core.display.HTML object>"
      ]
     },
     "metadata": {},
     "output_type": "display_data"
    },
    {
     "data": {
      "text/html": [
       "    <span style=\"background-color:#e7affa; padding:10px; -moz-border-radius:3px; -webkit-border-radius:3px;\">     h</span>"
      ],
      "text/plain": [
       "<IPython.core.display.HTML object>"
      ]
     },
     "metadata": {},
     "output_type": "display_data"
    },
    {
     "data": {
      "text/html": [
       "    <span style=\"background-color:#fad4af; padding:10px; -moz-border-radius:3px; -webkit-border-radius:3px;\">     i</span>"
      ],
      "text/plain": [
       "<IPython.core.display.HTML object>"
      ]
     },
     "metadata": {},
     "output_type": "display_data"
    },
    {
     "data": {
      "text/html": [
       "    <span style=\"background-color:#fac4af; padding:10px; -moz-border-radius:3px; -webkit-border-radius:3px;\">     j</span>"
      ],
      "text/plain": [
       "<IPython.core.display.HTML object>"
      ]
     },
     "metadata": {},
     "output_type": "display_data"
    }
   ],
   "source": [
    "golden_ratio_conjugate = 0.618033988749895\n",
    "\n",
    "s = 0.3\n",
    "v = 0.98\n",
    "letter = get_letter()\n",
    "for i in range(10):\n",
    "    h = random.uniform(0, 1)\n",
    "    h += golden_ratio_conjugate\n",
    "    h = h % 1\n",
    "    gen_html(hsv_to_rgb(h, s, v), next(letter))"
   ]
  },
  {
   "cell_type": "code",
   "execution_count": null,
   "metadata": {},
   "outputs": [],
   "source": []
  }
 ],
 "metadata": {
  "kernelspec": {
   "display_name": "Python 3",
   "language": "python",
   "name": "python3"
  },
  "language_info": {
   "codemirror_mode": {
    "name": "ipython",
    "version": 3
   },
   "file_extension": ".py",
   "mimetype": "text/x-python",
   "name": "python",
   "nbconvert_exporter": "python",
   "pygments_lexer": "ipython3",
   "version": "3.6.5"
  },
  "toc": {
   "base_numbering": 1,
   "nav_menu": {},
   "number_sections": true,
   "sideBar": true,
   "skip_h1_title": false,
   "title_cell": "Table of Contents",
   "title_sidebar": "Contents",
   "toc_cell": false,
   "toc_position": {},
   "toc_section_display": true,
   "toc_window_display": true
  }
 },
 "nbformat": 4,
 "nbformat_minor": 2
}
